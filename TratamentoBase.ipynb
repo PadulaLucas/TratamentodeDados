{
 "cells": [
  {
   "cell_type": "code",
   "execution_count": null,
   "metadata": {},
   "outputs": [],
   "source": [
    "from itertools import compress\n",
    "import pandas as pd\n",
    "import re"
   ]
  },
  {
   "cell_type": "code",
   "execution_count": null,
   "metadata": {},
   "outputs": [],
   "source": [
    "#importando planilha do portal admin para tratamento da base\n",
    "\n",
    "df_office=pd.read_csv(\"office2.csv\", low_memory=False)\n",
    "df_office.head()\n",
    "df_office.columns\n"
   ]
  },
  {
   "cell_type": "code",
   "execution_count": null,
   "metadata": {},
   "outputs": [],
   "source": [
    "#Seleção da colunas necessarias apenas\n",
    "\n",
    "cols=[ 'Departamento','Nome','Sobrenome', 'Licenças',\n",
    "      'Nome UPN']\n",
    "\n",
    "df_office=df_office[cols]\n",
    "df_office.head()\n",
    "\n",
    "df_office=df_office.query(\"@pd.notna(Licenças)\").reset_index(drop=True)\n",
    "df_office.head()\n"
   ]
  },
  {
   "cell_type": "code",
   "execution_count": null,
   "metadata": {},
   "outputs": [],
   "source": [
    "df_office.head()\n",
    "df = df_office.copy()"
   ]
  },
  {
   "cell_type": "code",
   "execution_count": null,
   "metadata": {},
   "outputs": [],
   "source": [
    "# licença email\n",
    "email_license = [\n",
    "    'Office 365 E1',\n",
    "    'Office 365 E3',\n",
    "    'Exchange Online (Plan 1)',\n",
    "    'Microsoft 365 E3'\n",
    "]\n",
    "\n",
    "# power bi\n",
    "powerbi_license = [\n",
    "    'Power BI Pro',\n",
    "    'Power BI (free)',\n",
    "    'Power BI PRO'\n",
    "]\n",
    "\n",
    "# Project plan\n",
    "project_plan_license = [\n",
    "    'Project Plan 1',\n",
    "    'Project Plan 5',\n",
    "    'Project Plan 3'\n",
    "]\n",
    "\n",
    "# visio plan\n",
    "visio_plan = [\n",
    "    'Visio Plan 2'\n",
    "]\n"
   ]
  },
  {
   "cell_type": "code",
   "execution_count": null,
   "metadata": {},
   "outputs": [],
   "source": [
    "df['Nome UPN'][0].split('@')[0]"
   ]
  },
  {
   "cell_type": "code",
   "execution_count": null,
   "metadata": {},
   "outputs": [],
   "source": [
    "df = df.assign(\n",
    "    #Extraindo logins\n",
    "    login = df['Nome UPN'].apply( lambda x: x.split('@')[0] ),\n",
    "\n",
    "    # Criando as Colunas de licenca \n",
    "    email = df['Licenças'].apply( lambda x: str( list( compress( email_license, [ i in x for i in email_license ] ) ) ).replace('[', '').replace(']', '').replace(\"'\", \"\") ),\n",
    "    powerbi = df['Licenças'].apply( lambda x: str( list( compress( powerbi_license, [ i in x for i in powerbi_license ] ) ) ).replace('[', '').replace(']', '').replace(\"'\", \"\") ),\n",
    "    project_plan = df['Licenças'].apply( lambda x: str( list( compress( project_plan_license, [ i in x for i in project_plan_license ] ) ) ).replace('[', '').replace(']', '').replace(\"'\", \"\") ),\n",
    "    visio_plan = df['Licenças'].apply( lambda x: str( list( compress( visio_plan, [ i in x for i in visio_plan ] ) ) ).replace('[', '').replace(']', '').replace(\"'\", \"\") )\n",
    ")\n"
   ]
  },
  {
   "cell_type": "code",
   "execution_count": null,
   "metadata": {},
   "outputs": [],
   "source": [
    "df_user = pd.read_excel('cc.xlsx')\n",
    "\n",
    "df_user.head()\n",
    "\n",
    "df.head()"
   ]
  },
  {
   "cell_type": "code",
   "execution_count": null,
   "metadata": {},
   "outputs": [],
   "source": [
    "#Procv com planilha do DP para inclusão do CC\n",
    "df = df.merge( df_cc, how='left', right_on='login', left_on='login')"
   ]
  },
  {
   "cell_type": "code",
   "execution_count": null,
   "metadata": {},
   "outputs": [],
   "source": [
    "df_valores = pd.read_excel('valores.xlsx')\n",
    "df.head()"
   ]
  },
  {
   "cell_type": "code",
   "execution_count": null,
   "metadata": {},
   "outputs": [],
   "source": [
    "#Criando coluna com valores de cada licença\n",
    "df_final = df.merge(df_valores, how='left', left_on='email', right_on='Licença e-mail') \\\n",
    "    .rename(columns={'Valor': 'vl_licenca_email'}) \\\n",
    "    .merge(df_valores, how='left', left_on='powerbi', right_on='Licença e-mail') \\\n",
    "    .rename(columns={'Valor': 'vl_licenca_power_bi'}) \\\n",
    "    .merge(df_valores, how='left', left_on='project_plan', right_on='Licença e-mail') \\\n",
    "    .rename(columns={'Valor': 'vl_licenca_projec_online'}) \\\n",
    "    .merge(df_valores, how='left', left_on='visio_plan', right_on='Licença e-mail') \\\n",
    "    .rename(columns={'Valor': 'vl_licenca_vision_online'}) \\\n",
    "    .drop('Licença e-mail_y', axis=1).rename(columns={'Licença e-mail_x': 'Licença e-mail'})"
   ]
  },
  {
   "cell_type": "code",
   "execution_count": null,
   "metadata": {},
   "outputs": [],
   "source": [
    "#IF Else, percoreendo as linhas e separando as licenças em cada coluna \n",
    "df_final['vl_licenca_email'] = df_final['vl_licenca_email'].apply(lambda x: 0 if pd.isna(x) else x)\n",
    "df_final['vl_licenca_power_bi'] = df_final['vl_licenca_power_bi'].apply(lambda x: 0 if pd.isna(x) else x)\n",
    "df_final['vl_licenca_projec_online'] = df_final['vl_licenca_projec_online'].apply(lambda x: 0 if pd.isna(x) else x)\n",
    "df_final['vl_licenca_vision_online'] = df_final['vl_licenca_vision_online'].apply(lambda x: 0 if pd.isna(x) else x)\n",
    "\n",
    "df_final['vl_total'] = df_final['vl_licenca_email'] + df_final['vl_licenca_power_bi'] + df_final['vl_licenca_projec_online'] + df_final['vl_licenca_vision_online']"
   ]
  },
  {
   "cell_type": "code",
   "execution_count": null,
   "metadata": {},
   "outputs": [],
   "source": [
    "df_final.columns\n",
    "\n",
    "#organizando colunas  e selecionando as necessarias \n",
    "cols = [ \n",
    "     'login'\n",
    "    ,'Funcionario'\n",
    "    ,'Nome UPN'\n",
    "    ,'Código do CDC'\n",
    "    ,'Centro de Custo'\n",
    "    ,'Cargo'\n",
    "    ,'Licenças'\n",
    "    ,'email'\n",
    "    ,'powerbi'\n",
    "    ,'project_plan'\n",
    "    ,'visio_plan'\n",
    "    ,'vl_licenca_email'\n",
    "    ,'vl_licenca_power_bi'\n",
    "    ,'vl_licenca_projec_online'\n",
    "    ,'vl_licenca_vision_online'\n",
    "    ,'vl_total'\n",
    "]\n",
    "\n",
    "df_final = df_final[cols]\n",
    "\n",
    "\n"
   ]
  },
  {
   "cell_type": "code",
   "execution_count": null,
   "metadata": {},
   "outputs": [],
   "source": [
    "df_final.to_excel('final.xlsx')"
   ]
  }
 ],
 "metadata": {
  "language_info": {
   "name": "python"
  },
  "orig_nbformat": 4
 },
 "nbformat": 4,
 "nbformat_minor": 2
}
